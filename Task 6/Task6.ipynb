{
 "cells": [
  {
   "cell_type": "markdown",
   "id": "9311ed48",
   "metadata": {},
   "source": [
    "# Task 6 :Quantum Representation Learning"
   ]
  },
  {
   "cell_type": "markdown",
   "id": "9e0795d6",
   "metadata": {},
   "source": [
    "First we will import all the required libraries for the task"
   ]
  },
  {
   "cell_type": "code",
   "execution_count": 15,
   "id": "7ab836cc",
   "metadata": {},
   "outputs": [],
   "source": [
    "import torch\n",
    "import torch.optim as optim\n",
    "import torchvision\n",
    "import torchvision.transforms as transforms\n",
    "import pennylane as qml\n",
    "import numpy as np\n",
    "import matplotlib.pyplot as plt"
   ]
  },
  {
   "cell_type": "markdown",
   "id": "b6841e51",
   "metadata": {},
   "source": [
    "## MNIST Dataset\n",
    "\n",
    "The MNIST dataset has images 28x28 pixels<br>\n",
    "\n",
    "We can split the image in 4 parts for quantum encoding<br>\n",
    "\n",
    "Therefore we will be using 4 qubit for each image\n",
    "\n",
    "total_wires = 2 register of each qubit + one ancilla qubit for swap test"
   ]
  },
  {
   "cell_type": "code",
   "execution_count": 2,
   "id": "8953309e",
   "metadata": {},
   "outputs": [],
   "source": [
    "n_qubits_per_state = 4\n",
    "total_wires = 1 + 2 * n_qubits_per_state  \n",
    "dev = qml.device(\"default.qubit\", wires=total_wires)"
   ]
  },
  {
   "cell_type": "markdown",
   "id": "0e1c1c61",
   "metadata": {},
   "source": [
    "Seed initialization is used for random operations"
   ]
  },
  {
   "cell_type": "code",
   "execution_count": 3,
   "id": "752c5b91",
   "metadata": {},
   "outputs": [],
   "source": [
    "torch.manual_seed(0)\n",
    "np.random.seed(0)"
   ]
  },
  {
   "cell_type": "markdown",
   "id": "eb084edd",
   "metadata": {},
   "source": [
    "### Dataset Preprocessing\n",
    "\n",
    "Just split the image in 4 quadrants \n",
    "Return a tensor of this vector\n"
   ]
  },
  {
   "cell_type": "code",
   "execution_count": 4,
   "id": "86d4ff58",
   "metadata": {},
   "outputs": [],
   "source": [
    "def preprocess_image(img):\n",
    "    img_np = img.numpy()\n",
    "    q1 = np.mean(img_np[:14, :14])\n",
    "    q2 = np.mean(img_np[:14, 14:])\n",
    "    q3 = np.mean(img_np[14:, :14])\n",
    "    q4 = np.mean(img_np[14:, 14:])\n",
    "    return torch.tensor([q1, q2, q3, q4], dtype=torch.float32)"
   ]
  },
  {
   "cell_type": "markdown",
   "id": "5ce26e0d",
   "metadata": {},
   "source": [
    "The encode_image function will encode the image by applying rotation gates\n",
    "\n",
    "Rotation angle is given by:<br>\n",
    "    θi =scale[i] × image[i] + bias[i]\n",
    "\n",
    "    \n",
    "\n"
   ]
  },
  {
   "cell_type": "code",
   "execution_count": 5,
   "id": "34ae3085",
   "metadata": {},
   "outputs": [],
   "source": [
    "def encode_image(image, params, wires):\n",
    "    for i, wire in enumerate(wires):\n",
    "        theta = params[i, 0] * image[i] + params[i, 1]\n",
    "        qml.RY(theta, wires=wire)"
   ]
  },
  {
   "cell_type": "markdown",
   "id": "91b5b20a",
   "metadata": {},
   "source": [
    "### Swap Circuit\n",
    "\n",
    "We will encode first image on wire 1 to 4 and second image on wire 5 to 8\n",
    "Both are encoded using same encoder and parameter\n",
    "\n",
    "The hamdard gate is applied to ancilla qubit ie q0 \n",
    "\n",
    "Then we apply Controlled Swap ie CSWAP on one qubit from each image\n",
    "\n",
    "Finally again Hamdard gate on ancilla \n",
    "\n",
    "The expectation value of the Pauli‑Z operator on the ancilla is measured. This value relates directly to the fidelity (similarity) between the two quantum states. If fidelity close to 1 means the states are similar, while a fidelity near 0 indicates dissimilarity.\n"
   ]
  },
  {
   "cell_type": "code",
   "execution_count": 6,
   "id": "94a87706",
   "metadata": {},
   "outputs": [],
   "source": [
    "@qml.qnode(dev, interface=\"torch\")\n",
    "def quantum_circuit(image1, image2, params):\n",
    "    \n",
    "    encode_image(image1, params, wires=list(range(1, n_qubits_per_state + 1)))\n",
    "    \n",
    "    encode_image(image2, params, wires=list(range(n_qubits_per_state + 1, total_wires)))\n",
    "    \n",
    "    qml.Hadamard(wires=0)\n",
    "    for i in range(n_qubits_per_state):\n",
    "        qml.CSWAP(wires=[0, 1 + i, n_qubits_per_state + 1 + i])\n",
    "    qml.Hadamard(wires=0)\n",
    "\n",
    "    return qml.expval(qml.PauliZ(0))"
   ]
  },
  {
   "cell_type": "markdown",
   "id": "24de0cda",
   "metadata": {},
   "source": [
    "Wrapping these above functionality in a class"
   ]
  },
  {
   "cell_type": "code",
   "execution_count": 7,
   "id": "875c8fb1",
   "metadata": {},
   "outputs": [],
   "source": [
    "class QuantumNet(torch.nn.Module):\n",
    "    def __init__(self):\n",
    "        super(QuantumNet, self).__init__()\n",
    "        self.params = torch.nn.Parameter(torch.randn(n_qubits_per_state, 2))\n",
    "        \n",
    "    def forward(self, img1, img2):\n",
    "        \n",
    "        proc_img1 = preprocess_image(img1)\n",
    "        proc_img2 = preprocess_image(img2)\n",
    "        \n",
    "        fidelity = quantum_circuit(proc_img1, proc_img2, self.params)\n",
    "        return fidelity"
   ]
  },
  {
   "cell_type": "markdown",
   "id": "e11c4624",
   "metadata": {},
   "source": [
    "Loss function\n",
    "\n",
    "Same Class (label = 1):\n",
    "The loss is (1−fidelity)^2\n",
    "Minimizing this loss encourages the fidelity to approach 1.\n",
    "\n",
    "\n",
    "Different Class (label = 0):\n",
    "The loss is fidility^2\n",
    "Minimizing this loss pushes the fidelity toward 0.\n"
   ]
  },
  {
   "cell_type": "code",
   "execution_count": 8,
   "id": "8d8d0076",
   "metadata": {},
   "outputs": [],
   "source": [
    "def contrastive_loss(fidelity, label):\n",
    "    # When label==1 (same class): loss = (1 - fidelity)^2\n",
    "    # When label==0 (different): loss = (fidelity)^2\n",
    "    return label * (1 - fidelity)**2 + (1 - label) * (fidelity)**2"
   ]
  },
  {
   "cell_type": "markdown",
   "id": "7bf15269",
   "metadata": {},
   "source": [
    "Load the MNIST dataset\n",
    "\n",
    "First convert the image to pyTorch tensor\n",
    "\n",
    "Remove channel dimension using lambda fxn\n",
    "\n",
    "Due to memory constraint working only with first 10000 smaples"
   ]
  },
  {
   "cell_type": "code",
   "execution_count": 13,
   "id": "712c8926",
   "metadata": {},
   "outputs": [],
   "source": [
    "transform = transforms.Compose([\n",
    "    transforms.ToTensor(),\n",
    "    transforms.Lambda(lambda x: x.squeeze(0))#remove the channel dimension\n",
    "])\n",
    "mnist_train = torchvision.datasets.MNIST(root=\"./data\", train=True, download=True, transform=transform)\n",
    "\n",
    "data = [(mnist_train[i][0], mnist_train[i][1]) for i in range(10000)]"
   ]
  },
  {
   "cell_type": "markdown",
   "id": "d1ccf7d6",
   "metadata": {},
   "source": [
    "### Visualising the dataset\n",
    "\n",
    "To check the shape, label and how pixels are distributed in the dataset"
   ]
  },
  {
   "cell_type": "code",
   "execution_count": 16,
   "id": "64eefbab",
   "metadata": {},
   "outputs": [
    {
     "name": "stdout",
     "output_type": "stream",
     "text": [
      "Image #0\n",
      " - Shape: torch.Size([28, 28])\n",
      " - Label: 5\n",
      " - Min pixel: 0.0000\n",
      " - Max pixel: 1.0000\n",
      " - Mean pixel: 0.1377\n",
      "------------------------------\n",
      "Image #1\n",
      " - Shape: torch.Size([28, 28])\n",
      " - Label: 0\n",
      " - Min pixel: 0.0000\n",
      " - Max pixel: 1.0000\n",
      " - Mean pixel: 0.1555\n",
      "------------------------------\n",
      "Image #2\n",
      " - Shape: torch.Size([28, 28])\n",
      " - Label: 4\n",
      " - Min pixel: 0.0000\n",
      " - Max pixel: 1.0000\n",
      " - Mean pixel: 0.0973\n",
      "------------------------------\n",
      "Image #3\n",
      " - Shape: torch.Size([28, 28])\n",
      " - Label: 1\n",
      " - Min pixel: 0.0000\n",
      " - Max pixel: 1.0000\n",
      " - Mean pixel: 0.0857\n",
      "------------------------------\n",
      "Image #4\n",
      " - Shape: torch.Size([28, 28])\n",
      " - Label: 9\n",
      " - Min pixel: 0.0000\n",
      " - Max pixel: 1.0000\n",
      " - Mean pixel: 0.1161\n",
      "------------------------------\n",
      "Image #5\n",
      " - Shape: torch.Size([28, 28])\n",
      " - Label: 2\n",
      " - Min pixel: 0.0000\n",
      " - Max pixel: 1.0000\n",
      " - Mean pixel: 0.1481\n",
      "------------------------------\n",
      "Image #6\n",
      " - Shape: torch.Size([28, 28])\n",
      " - Label: 1\n",
      " - Min pixel: 0.0000\n",
      " - Max pixel: 1.0000\n",
      " - Mean pixel: 0.0883\n",
      "------------------------------\n",
      "Image #7\n",
      " - Shape: torch.Size([28, 28])\n",
      " - Label: 3\n",
      " - Min pixel: 0.0000\n",
      " - Max pixel: 1.0000\n",
      " - Mean pixel: 0.1794\n",
      "------------------------------\n",
      "Image #8\n",
      " - Shape: torch.Size([28, 28])\n",
      " - Label: 1\n",
      " - Min pixel: 0.0000\n",
      " - Max pixel: 1.0000\n",
      " - Mean pixel: 0.0544\n",
      "------------------------------\n",
      "Image #9\n",
      " - Shape: torch.Size([28, 28])\n",
      " - Label: 4\n",
      " - Min pixel: 0.0000\n",
      " - Max pixel: 1.0000\n",
      " - Mean pixel: 0.1096\n",
      "------------------------------\n"
     ]
    },
    {
     "data": {
      "image/png": "[encoded data removed]",
      "text/plain": [
       "<Figure size 1200x300 with 10 Axes>"
      ]
     },
     "metadata": {},
     "output_type": "display_data"
    }
   ],
   "source": [
    "# Function to show and describe images\n",
    "def show_and_describe_images(dataset, num_images=5):\n",
    "    plt.figure(figsize=(12, 3))\n",
    "    for i in range(num_images):\n",
    "        img, label = dataset[i]\n",
    "\n",
    "        # Show image\n",
    "        plt.subplot(1, num_images, i + 1)\n",
    "        plt.imshow(img, cmap='gray')\n",
    "        plt.title(f\"Label: {label}\")\n",
    "        plt.axis('off')\n",
    "\n",
    "        # Print image info\n",
    "        print(f\"Image #{i}\")\n",
    "        print(f\" - Shape: {img.shape}\")\n",
    "        print(f\" - Label: {label}\")\n",
    "        print(f\" - Min pixel: {img.min().item():.4f}\")\n",
    "        print(f\" - Max pixel: {img.max().item():.4f}\")\n",
    "        print(f\" - Mean pixel: {img.mean().item():.4f}\")\n",
    "        print(\"-\" * 30)\n",
    "\n",
    "    plt.tight_layout()\n",
    "    plt.show()\n",
    "\n",
    "# Show images and details\n",
    "show_and_describe_images(mnist_train, num_images=10)\n"
   ]
  },
  {
   "cell_type": "markdown",
   "id": "694b2ba6",
   "metadata": {},
   "source": [
    "## Final Training Loop \n",
    "\n",
    "An instance of `QuantumNet` is created, and an Adam optimizer is set up with a learning rate of **0.01** to update the trainable parameters.\n",
    "\n",
    "### Training Parameters\n",
    "The loop runs for **20 epochs**, with **200 iterations per epoch**.\n",
    "\n",
    "### Sampling Image Pairs\n",
    "In each iteration:\n",
    "- Two random indices are chosen to sample a pair from the dataset.\n",
    "- The corresponding images and labels are retrieved.\n",
    "- The target for the contrastive loss is set to **1.0** if the images have the same label, and **0.0** otherwise.\n",
    "\n",
    "- The **average loss per epoch** is printed, providing insight into the training progress.\n"
   ]
  },
  {
   "cell_type": "code",
   "execution_count": 14,
   "id": "14eed1d0",
   "metadata": {},
   "outputs": [
    {
     "name": "stdout",
     "output_type": "stream",
     "text": [
      "Epoch 1, Loss: 0.8578, Accuracy: 7.50%\n",
      "Epoch 2, Loss: 0.6707, Accuracy: 9.00%\n",
      "Epoch 3, Loss: 0.4340, Accuracy: 33.50%\n",
      "Epoch 4, Loss: 0.3515, Accuracy: 46.00%\n",
      "Epoch 5, Loss: 0.2970, Accuracy: 52.00%\n",
      "Epoch 6, Loss: 0.2762, Accuracy: 56.00%\n",
      "Epoch 7, Loss: 0.2227, Accuracy: 68.00%\n",
      "Epoch 8, Loss: 0.2028, Accuracy: 67.00%\n",
      "Epoch 9, Loss: 0.1784, Accuracy: 72.50%\n",
      "Epoch 10, Loss: 0.1787, Accuracy: 71.50%\n",
      "Epoch 11, Loss: 0.1494, Accuracy: 78.00%\n",
      "Epoch 12, Loss: 0.1419, Accuracy: 79.00%\n",
      "Epoch 13, Loss: 0.1555, Accuracy: 78.50%\n",
      "Epoch 14, Loss: 0.1693, Accuracy: 73.50%\n",
      "Epoch 15, Loss: 0.1199, Accuracy: 85.50%\n",
      "Epoch 16, Loss: 0.1346, Accuracy: 83.50%\n",
      "Epoch 17, Loss: 0.1433, Accuracy: 83.00%\n",
      "Epoch 18, Loss: 0.1239, Accuracy: 84.50%\n",
      "Epoch 19, Loss: 0.1219, Accuracy: 84.50%\n",
      "Epoch 20, Loss: 0.1250, Accuracy: 83.50%\n",
      "Epoch 21, Loss: 0.1191, Accuracy: 83.00%\n",
      "Epoch 22, Loss: 0.1013, Accuracy: 87.00%\n",
      "Epoch 23, Loss: 0.1142, Accuracy: 85.50%\n",
      "Epoch 24, Loss: 0.1332, Accuracy: 81.50%\n",
      "Epoch 25, Loss: 0.1316, Accuracy: 82.00%\n",
      "Epoch 26, Loss: 0.1550, Accuracy: 81.50%\n",
      "Epoch 27, Loss: 0.0988, Accuracy: 86.50%\n",
      "Epoch 28, Loss: 0.1246, Accuracy: 84.50%\n",
      "Epoch 29, Loss: 0.1194, Accuracy: 86.00%\n",
      "Epoch 30, Loss: 0.1211, Accuracy: 86.50%\n",
      "Epoch 31, Loss: 0.1492, Accuracy: 80.50%\n",
      "Epoch 32, Loss: 0.1403, Accuracy: 81.50%\n",
      "Epoch 33, Loss: 0.1051, Accuracy: 88.50%\n",
      "Epoch 34, Loss: 0.1243, Accuracy: 84.50%\n",
      "Epoch 35, Loss: 0.0972, Accuracy: 87.50%\n",
      "Epoch 36, Loss: 0.1235, Accuracy: 83.50%\n",
      "Epoch 37, Loss: 0.1360, Accuracy: 84.50%\n",
      "Epoch 38, Loss: 0.1382, Accuracy: 83.50%\n",
      "Epoch 39, Loss: 0.0843, Accuracy: 89.00%\n",
      "Epoch 40, Loss: 0.0878, Accuracy: 90.00%\n",
      "Best Accuracy: 90.00%\n"
     ]
    }
   ],
   "source": [
    "qnet = QuantumNet()\n",
    "optimizer = optim.Adam(qnet.parameters(), lr=0.02)\n",
    "\n",
    "num_epochs = 40\n",
    "num_iterations = 200\n",
    "best_acc=0\n",
    "for epoch in range(num_epochs):\n",
    "    total_loss = 0\n",
    "    correct_predictions = 0  # Track correct classifications\n",
    "    for _ in range(num_iterations):\n",
    "        idx1, idx2 = np.random.randint(0, len(data)), np.random.randint(0, len(data))\n",
    "        img1, label1 = data[idx1]\n",
    "        img2, label2 = data[idx2]\n",
    "        target = 1.0 if label1 == label2 else 0.0  # Ground truth label\n",
    "\n",
    "        optimizer.zero_grad()\n",
    "        fidelity = qnet(img1, img2)\n",
    "        loss = contrastive_loss(fidelity, target)\n",
    "        loss.backward()\n",
    "        optimizer.step()\n",
    "        total_loss += loss.item()\n",
    "\n",
    "        # Compute accuracy\n",
    "        predicted_label = 1.0 if fidelity >= 0.5 else 0.0  # Classification threshold\n",
    "        if predicted_label == target:\n",
    "            correct_predictions += 1\n",
    "\n",
    "    avg_loss = total_loss / num_iterations\n",
    "    accuracy = correct_predictions / num_iterations * 100  # Convert to percentage\n",
    "    if(accuracy > best_acc):\n",
    "        best_acc = accuracy\n",
    "        #torch.save(qnet.state_dict(), \"best_model.pth\")\n",
    "    print(f\"Epoch {epoch+1}, Loss: {avg_loss:.4f}, Accuracy: {accuracy:.2f}%\")\n",
    "\n",
    "print(f\"Best Accuracy: {best_acc:.2f}%\")\n"
   ]
  },
  {
   "cell_type": "markdown",
   "id": "2e60f07e",
   "metadata": {},
   "source": [
    "The best accuracy is 90% for a sample data of first 10000 images"
   ]
  }
 ],
 "metadata": {
  "kernelspec": {
   "display_name": "Python 3 (ipykernel)",
   "language": "python",
   "name": "python3"
  },
  "language_info": {
   "codemirror_mode": {
    "name": "ipython",
    "version": 3
   },
   "file_extension": ".py",
   "mimetype": "text/x-python",
   "name": "python",
   "nbconvert_exporter": "python",
   "pygments_lexer": "ipython3",
   "version": "3.12.4"
  }
 },
 "nbformat": 4,
 "nbformat_minor": 5
}
