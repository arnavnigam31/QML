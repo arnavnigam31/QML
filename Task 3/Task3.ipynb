{
 "cells": [
  {
   "cell_type": "markdown",
   "metadata": {},
   "source": [
    "# Task 3"
   ]
  },
  {
   "cell_type": "markdown",
   "metadata": {},
   "source": [
    "Quantum Machine learning is really powerful as it merges both quantum physics and machine learning, offering us new possibilities to solve problems more efficiently and faster than Classical Computer."
   ]
  },
  {
   "cell_type": "markdown",
   "metadata": {},
   "source": [
    "## Features Of Quantum "
   ]
  },
  {
   "cell_type": "markdown",
   "metadata": {},
   "source": [
    "### Entanglement \n",
    "\n",
    "Qubits can be entangled where one state is directly related to the other state. This enable us to perform complex operations in very less time that can take exponential time in Classical computers.\n",
    "\n",
    "\n",
    "### Quantum Gates\n",
    "\n",
    "The qubits can be easily manipulated using different gates like X,Y,Z,Hamdard etc. These gates are represented using simple matrix which makes compuatation and calculation simple and faster.\n",
    "\n",
    "### Super Dense Coding\n",
    "\n",
    "Quantum protocol that allows us to send 2 bits of info using 1 bit.\n",
    "\n",
    "--------------------------------------------------------------------------------------------------\n"
   ]
  },
  {
   "cell_type": "markdown",
   "metadata": {},
   "source": [
    "# Some Basic Algo\n",
    "\n",
    "### Deutsch Algorithm\n",
    "\n",
    "It is one of the earliest example of Quantum Computing Algorithm which is used to predict whether a function is constant function or balanced function \n",
    "\n",
    "### Deutsch Josza Algorithm\n",
    "\n",
    "This is an extension of above algorithm where a function takes n bit as input and we have to predict whether function is constant of balanced.\n",
    "\n",
    "Now in case of a classical computer it will take 2^(n-1)+1 queries to determine whether it is constant or balanced.\n",
    "\n",
    "But in case of Quantum Computer it will take only one query to determine.\n",
    "\n",
    "This algorithm uses superpositioning principle to all the inputs rather than checking one at a time.\n",
    "\n"
   ]
  },
  {
   "cell_type": "markdown",
   "metadata": {},
   "source": [
    "### Bernstein-Vazirani Algorithm\n",
    "\n",
    "It is a quantum algorithm that efficiently finds a hidden bit string encoded in a function.\n",
    "\n",
    "$$\n",
    "f(x)=a*x mod 2\n",
    "$$\n",
    "\n",
    "We have to find out `a` hidden bit string of n bits.\n",
    "\n",
    "In classical computer, we would have to query atleast n times ie `O(n)`\n",
    "\n",
    "But with quantum computer we can find this in `O(1)`\n",
    "\n"
   ]
  },
  {
   "cell_type": "markdown",
   "metadata": {},
   "source": [
    "### Quantum Fourier Transformation\n",
    "\n",
    "It is one of the most important and fundamental algo. It is used to apply linear transformation on state of qubits.It transforms a quantum state from the \"computational basis\" into a \"frequency domain\" basis, similar to how the classical Fourier transform converts a time-domain signal into its frequency components.\n",
    "\n",
    "While a classical DFT takes `O(N logN)`operations for an array of `N` elements, the QFT can be performed using `O(n^2)` where `N=2^n`. This makes it exponentially faster.\n",
    "\n",
    "I am not adding circuit and mathematical expression here because it will make it too lengthy.\n",
    "\n",
    "\n"
   ]
  },
  {
   "cell_type": "markdown",
   "metadata": {},
   "source": [
    "### Shor's Algorithm\n",
    "\n",
    "It is my favourite algorithm and I would like to work on this and explore this algorithm further because while reading about this I realised that the whole internet can go down just by one breakthrough in this field which is scary and exciting at the same time.\n",
    "\n",
    "It is used to factor a very large number efficiently which will break the blockchain and cryptography on which the whole internet is working.\n",
    "\n",
    "Shor’s algorithm starts by reducing the factoring problem to finding the period `r` of a function.\n",
    "$$\n",
    "f(x)= a^x mod N\n",
    "$$\n",
    "\n",
    "where a is randomly chosen coprime with N\n",
    "\n",
    "The period r is smallest positive integer such that\n",
    "$$\n",
    "a^r=1 mod N\n",
    "$$\n",
    "\n",
    "The quantum part of the algorithm involves creating a superposition over possible values of `x`, and then using quantum phase estimation to determine the period `r`.\n",
    "\n",
    "Quantum Fourier Transform (QFT) to convert the periodicity information into a measurable form. The QFT efficiently extracts the frequency (or phase) corresponding to the period.\n",
    "\n",
    "Once `r` is known, it can be used to compute a non-trivial factor of `N` by calculating the greatest common divisor (gcd) of \n",
    "$$\n",
    "\\gcd\\left(a^{\\frac{r}{2}} \\pm 1, \\, N\\right)\n",
    "$$\n",
    "\n",
    "-------------------------------------"
   ]
  },
  {
   "cell_type": "markdown",
   "metadata": {},
   "source": [
    "# Real-World Application of Quantum Computing in LLMs\n",
    "\n",
    "During my research internship at DRDO, I worked extensively with Large Language Models (LLMs) and observed that the sheer size of the dataset and the high computational requirements posed significant challenges. Training these models demands vast memory resources and immense computational power, making efficiency a critical concern. However, Quantum Machine Learning (QML) offers promising solutions to optimize and accelerate this process.\n",
    "\n",
    "### Accelerating Matrix Multiplication with HHL Algorithm\n",
    "\n",
    "A fundamental operation in LLMs is matrix multiplication, which is heavily used in various components like the transformer architecture, attention mechanisms, and embedding layers. Classical matrix multiplication is computationally expensive, especially when dealing with high-dimensional matrices.\n",
    "\n",
    "The Harrow-Hassidim-Lloyd (HHL) algorithm is a quantum algorithm designed to solve linear systems exponentially faster than classical methods.\n",
    "\n",
    "It leverages quantum parallelism to reduce the time complexity of solving linear equations from O(N³) (classical) to O(log N) (quantum).\n",
    "\n",
    "Applying HHL to LLM training can significantly speed up backpropagation and weight updates, leading to more efficient training and reduced power consumption.\n",
    "\n",
    "### Optimizing Hyperparameter Selection with Grover’s Algorithm\n",
    "\n",
    "Selecting the best hyperparameters (e.g., learning rate, batch size, dropout rate) is a crucial step in training deep learning models. Classical methods such as grid search and random search are inefficient, requiring multiple iterations to converge on the optimal set of parameters.\n",
    "\n",
    "Grover’s Algorithm provides a quadratic speedup in searching for the best hyperparameter combination.\n",
    "\n",
    "Instead of iterating through all possible values sequentially, Grover’s Algorithm allows quantum superposition to evaluate multiple possibilities in parallel.\n",
    "\n",
    "This results in faster convergence to optimal parameters, reducing both computational overhead and training time.\n",
    "\n",
    "### Enhancing Text Processing with Quantum NLP (QNLP)\n",
    "\n",
    "Traditional Natural Language Processing (NLP) methods rely on classical machine learning models that struggle with semantic understanding and contextual relationships. Quantum NLP introduces an alternative approach that leverages quantum circuits to process textual information more effectively.\n",
    "\n",
    "The DisCoCat (Distributional Compositional Categorical) model in Quantum NLP can represent linguistic structures as quantum states.\n",
    "\n",
    "Quantum entanglement allows capturing deeper semantic relationships between words, enhancing context understanding and language generation.\n",
    "\n",
    "### Quantum Embeddings: Compressing High-Dimensional Representations\n",
    "LLMs like BERT and GPT use high-dimensional vector spaces to encode word meanings and relationships. These embeddings require significant storage and computational power.\n",
    "\n",
    "Quantum computing allows compressing embeddings into fewer qubits while preserving the underlying semantic information.\n",
    "\n",
    "Quantum superposition enables encoding multiple features in parallel, reducing memory usage and processing time.\n",
    "\n",
    "This could enable LLMs to be deployed on smaller devices, such as edge computing environments, while maintaining their accuracy and effectiveness.\n",
    "\n"
   ]
  },
  {
   "cell_type": "markdown",
   "metadata": {},
   "source": [
    "------------------\n",
    "\n",
    "These are some of the algorithms, there are many other algorithms and concepts in quantum computing that I would like to explore and work with during my summer break and I would love to learn more from our mentors.\n",
    "\n"
   ]
  }
 ],
 "metadata": {
  "kernelspec": {
   "display_name": "Python 3 (ipykernel)",
   "language": "python",
   "name": "python3"
  },
  "language_info": {
   "codemirror_mode": {
    "name": "ipython",
    "version": 3
   },
   "file_extension": ".py",
   "mimetype": "text/x-python",
   "name": "python",
   "nbconvert_exporter": "python",
   "pygments_lexer": "ipython3",
   "version": "3.12.4"
  }
 },
 "nbformat": 4,
 "nbformat_minor": 4
}
