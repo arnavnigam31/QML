{
 "cells": [
  {
   "cell_type": "markdown",
   "id": "f7db72a5-5b38-4c94-aab1-7e8de264ad4a",
   "metadata": {},
   "source": [
    "<font size=\"18\">Task 1:Quantum Computing part</font>"
   ]
  },
  {
   "cell_type": "markdown",
   "id": "f1c1b05d-4305-4541-8a9f-c68b099c76ce",
   "metadata": {},
   "source": [
    "In this there are 2 subtask we have to perform"
   ]
  },
  {
   "cell_type": "markdown",
   "id": "30eb5c31-a0f5-4709-a374-6c60988ef693",
   "metadata": {},
   "source": [
    "We will be using cirq library for implementation"
   ]
  },
  {
   "cell_type": "markdown",
   "id": "d7219c4f-346d-4038-9113-1db6c751bfe4",
   "metadata": {},
   "source": [
    "We will start by importing cirq and numpy"
   ]
  },
  {
   "cell_type": "code",
   "execution_count": 1,
   "id": "8357700b-9ecc-4e63-9d01-f958ff58c94e",
   "metadata": {},
   "outputs": [],
   "source": [
    "import cirq\n",
    "import numpy as np"
   ]
  },
  {
   "cell_type": "markdown",
   "id": "51860223-8bcb-4d24-a7ac-d4b28a69e4a2",
   "metadata": {},
   "source": [
    "<font size=\"6\">First Subtask</font>"
   ]
  },
  {
   "cell_type": "markdown",
   "id": "47713929-af43-4221-a210-7da4473e4375",
   "metadata": {},
   "source": [
    "First create 5 qubits using LineQubit which will create 5 qubits ie q0, q1,q2,q3,q4"
   ]
  },
  {
   "cell_type": "code",
   "execution_count": 2,
   "id": "c5a877dc-105e-43f9-bd74-a35ce0a62735",
   "metadata": {},
   "outputs": [],
   "source": [
    "qubits = [cirq.LineQubit(i) for i in range(5)]"
   ]
  },
  {
   "cell_type": "markdown",
   "id": "c27b5363-f010-47d6-bc0a-4ed05671b337",
   "metadata": {},
   "source": [
    "Now we will first create a circuit and then append all the 5 qubits in the circuit by applying Hadamard gate to each qubit"
   ]
  },
  {
   "cell_type": "code",
   "execution_count": 3,
   "id": "fc445bf6-0980-4229-8d01-d4a0314b5e52",
   "metadata": {},
   "outputs": [],
   "source": [
    "circuit = cirq.Circuit()\n",
    "\n",
    "circuit.append([cirq.H(q) for q in qubits])"
   ]
  },
  {
   "cell_type": "markdown",
   "id": "d42e96cd-9f6f-471b-a493-ee1daf296179",
   "metadata": {},
   "source": [
    "Now we have to apply controlled not (CNOT) on  (0,1), (1,2), (2,3), (3,4)"
   ]
  },
  {
   "cell_type": "code",
   "execution_count": 4,
   "id": "9fd8a2c2-e700-40cd-86b1-ca3604ed1de1",
   "metadata": {},
   "outputs": [],
   "source": [
    "circuit.append([cirq.CNOT(qubits[i], qubits[i+1]) for i in range(4)])"
   ]
  },
  {
   "cell_type": "markdown",
   "id": "d79aea4d-5b17-4bec-8d0e-caa9a8821ad3",
   "metadata": {},
   "source": [
    "Now we will swap q0 and q4 using SWAP gate "
   ]
  },
  {
   "cell_type": "code",
   "execution_count": 5,
   "id": "2dfc9f9c-6f92-4c9f-a7fe-6c8b213947cc",
   "metadata": {},
   "outputs": [],
   "source": [
    "circuit.append(cirq.SWAP(qubits[0], qubits[4]))"
   ]
  },
  {
   "cell_type": "markdown",
   "id": "eb4166ad-63da-4ea0-bb8e-0782be55319a",
   "metadata": {},
   "source": [
    "Now we have to rotate X any qubit lets say q1 by pi/2"
   ]
  },
  {
   "cell_type": "code",
   "execution_count": 6,
   "id": "ddc70744-4323-4c58-a030-a1dd5a0f153c",
   "metadata": {},
   "outputs": [],
   "source": [
    "circuit.append(cirq.rx(np.pi/2)(qubits[1]))"
   ]
  },
  {
   "cell_type": "markdown",
   "id": "daf934d7-3a7a-4dd7-8f58-fd0c8f712d8a",
   "metadata": {},
   "source": [
    "Plot the circuit"
   ]
  },
  {
   "cell_type": "code",
   "execution_count": 7,
   "id": "c0ec7b55-b45d-4dc7-b821-f16447402a4c",
   "metadata": {},
   "outputs": [
    {
     "name": "stdout",
     "output_type": "stream",
     "text": [
      "Circuit diagram:\n",
      "0: ───H───@──────────────────────×───\n",
      "          │                      │\n",
      "1: ───H───X───@───Rx(0.5π)───────┼───\n",
      "              │                  │\n",
      "2: ───H───────X───@──────────────┼───\n",
      "                  │              │\n",
      "3: ───H───────────X──────────@───┼───\n",
      "                             │   │\n",
      "4: ───H──────────────────────X───×───\n"
     ]
    }
   ],
   "source": [
    "print(\"Circuit diagram:\")\n",
    "print(circuit)\n"
   ]
  },
  {
   "cell_type": "markdown",
   "id": "d225f370-6fb9-4005-8d32-d0b4c5ae33ac",
   "metadata": {},
   "source": [
    "For better visualization we can use SVGcirciuts"
   ]
  },
  {
   "cell_type": "code",
   "execution_count": 8,
   "id": "59790703-8534-4ab3-8c03-a62e4c1b97fa",
   "metadata": {},
   "outputs": [
    {
     "data": {
      "image/svg+xml": [
       "<svg xmlns=\"http://www.w3.org/2000/svg\" width=\"483.9494921875\" height=\"250.0\"><line x1=\"30.0\" x2=\"453.9494921875\" y1=\"25.0\" y2=\"25.0\" stroke=\"#1967d2\" stroke-width=\"1\" /><line x1=\"30.0\" x2=\"453.9494921875\" y1=\"75.0\" y2=\"75.0\" stroke=\"#1967d2\" stroke-width=\"1\" /><line x1=\"30.0\" x2=\"453.9494921875\" y1=\"125.0\" y2=\"125.0\" stroke=\"#1967d2\" stroke-width=\"1\" /><line x1=\"30.0\" x2=\"453.9494921875\" y1=\"175.0\" y2=\"175.0\" stroke=\"#1967d2\" stroke-width=\"1\" /><line x1=\"30.0\" x2=\"453.9494921875\" y1=\"225.0\" y2=\"225.0\" stroke=\"#1967d2\" stroke-width=\"1\" /><line x1=\"150.0\" x2=\"150.0\" y1=\"25.0\" y2=\"75.0\" stroke=\"black\" stroke-width=\"3\" /><line x1=\"210.0\" x2=\"210.0\" y1=\"75.0\" y2=\"125.0\" stroke=\"black\" stroke-width=\"3\" /><line x1=\"281.97474609375\" x2=\"281.97474609375\" y1=\"125.0\" y2=\"175.0\" stroke=\"black\" stroke-width=\"3\" /><line x1=\"353.9494921875\" x2=\"353.9494921875\" y1=\"175.0\" y2=\"225.0\" stroke=\"black\" stroke-width=\"3\" /><line x1=\"413.9494921875\" x2=\"413.9494921875\" y1=\"25.0\" y2=\"225.0\" stroke=\"black\" stroke-width=\"3\" /><rect x=\"10.0\" y=\"5.0\" width=\"40\" height=\"40\" stroke=\"black\" fill=\"white\" stroke-width=\"0\" /><text x=\"30.0\" y=\"25.0\" dominant-baseline=\"middle\" text-anchor=\"middle\" font-size=\"14px\" font-family=\"Arial:style=normal:variant=normal:weight=normal:stretch=normal:size=10.0\">0: </text><rect x=\"10.0\" y=\"55.0\" width=\"40\" height=\"40\" stroke=\"black\" fill=\"white\" stroke-width=\"0\" /><text x=\"30.0\" y=\"75.0\" dominant-baseline=\"middle\" text-anchor=\"middle\" font-size=\"14px\" font-family=\"Arial:style=normal:variant=normal:weight=normal:stretch=normal:size=10.0\">1: </text><rect x=\"10.0\" y=\"105.0\" width=\"40\" height=\"40\" stroke=\"black\" fill=\"white\" stroke-width=\"0\" /><text x=\"30.0\" y=\"125.0\" dominant-baseline=\"middle\" text-anchor=\"middle\" font-size=\"14px\" font-family=\"Arial:style=normal:variant=normal:weight=normal:stretch=normal:size=10.0\">2: </text><rect x=\"10.0\" y=\"155.0\" width=\"40\" height=\"40\" stroke=\"black\" fill=\"white\" stroke-width=\"0\" /><text x=\"30.0\" y=\"175.0\" dominant-baseline=\"middle\" text-anchor=\"middle\" font-size=\"14px\" font-family=\"Arial:style=normal:variant=normal:weight=normal:stretch=normal:size=10.0\">3: </text><rect x=\"10.0\" y=\"205.0\" width=\"40\" height=\"40\" stroke=\"black\" fill=\"white\" stroke-width=\"0\" /><text x=\"30.0\" y=\"225.0\" dominant-baseline=\"middle\" text-anchor=\"middle\" font-size=\"14px\" font-family=\"Arial:style=normal:variant=normal:weight=normal:stretch=normal:size=10.0\">4: </text><rect x=\"70.0\" y=\"5.0\" width=\"40\" height=\"40\" stroke=\"black\" fill=\"white\" stroke-width=\"1\" /><text x=\"90.0\" y=\"25.0\" dominant-baseline=\"middle\" text-anchor=\"middle\" font-size=\"18px\" font-family=\"Arial:style=normal:variant=normal:weight=normal:stretch=normal:size=10.0\">H</text><rect x=\"70.0\" y=\"55.0\" width=\"40\" height=\"40\" stroke=\"black\" fill=\"white\" stroke-width=\"1\" /><text x=\"90.0\" y=\"75.0\" dominant-baseline=\"middle\" text-anchor=\"middle\" font-size=\"18px\" font-family=\"Arial:style=normal:variant=normal:weight=normal:stretch=normal:size=10.0\">H</text><rect x=\"70.0\" y=\"105.0\" width=\"40\" height=\"40\" stroke=\"black\" fill=\"white\" stroke-width=\"1\" /><text x=\"90.0\" y=\"125.0\" dominant-baseline=\"middle\" text-anchor=\"middle\" font-size=\"18px\" font-family=\"Arial:style=normal:variant=normal:weight=normal:stretch=normal:size=10.0\">H</text><rect x=\"70.0\" y=\"155.0\" width=\"40\" height=\"40\" stroke=\"black\" fill=\"white\" stroke-width=\"1\" /><text x=\"90.0\" y=\"175.0\" dominant-baseline=\"middle\" text-anchor=\"middle\" font-size=\"18px\" font-family=\"Arial:style=normal:variant=normal:weight=normal:stretch=normal:size=10.0\">H</text><rect x=\"70.0\" y=\"205.0\" width=\"40\" height=\"40\" stroke=\"black\" fill=\"white\" stroke-width=\"1\" /><text x=\"90.0\" y=\"225.0\" dominant-baseline=\"middle\" text-anchor=\"middle\" font-size=\"18px\" font-family=\"Arial:style=normal:variant=normal:weight=normal:stretch=normal:size=10.0\">H</text><circle cx=\"150.0\" cy=\"25.0\" r=\"10.0\" /><rect x=\"130.0\" y=\"55.0\" width=\"40\" height=\"40\" stroke=\"black\" fill=\"white\" stroke-width=\"1\" /><text x=\"150.0\" y=\"75.0\" dominant-baseline=\"middle\" text-anchor=\"middle\" font-size=\"18px\" font-family=\"Arial:style=normal:variant=normal:weight=normal:stretch=normal:size=10.0\">X</text><circle cx=\"210.0\" cy=\"75.0\" r=\"10.0\" /><rect x=\"190.0\" y=\"105.0\" width=\"40\" height=\"40\" stroke=\"black\" fill=\"white\" stroke-width=\"1\" /><text x=\"210.0\" y=\"125.0\" dominant-baseline=\"middle\" text-anchor=\"middle\" font-size=\"18px\" font-family=\"Arial:style=normal:variant=normal:weight=normal:stretch=normal:size=10.0\">X</text><circle cx=\"281.97474609375\" cy=\"125.0\" r=\"10.0\" /><rect x=\"250.0\" y=\"155.0\" width=\"63.9494921875\" height=\"40\" stroke=\"black\" fill=\"white\" stroke-width=\"1\" /><text x=\"281.97474609375\" y=\"175.0\" dominant-baseline=\"middle\" text-anchor=\"middle\" font-size=\"18px\" font-family=\"Arial:style=normal:variant=normal:weight=normal:stretch=normal:size=10.0\">X</text><rect x=\"250.0\" y=\"55.0\" width=\"63.9494921875\" height=\"40\" stroke=\"black\" fill=\"white\" stroke-width=\"1\" /><text x=\"281.97474609375\" y=\"75.0\" dominant-baseline=\"middle\" text-anchor=\"middle\" font-size=\"14px\" font-family=\"Arial:style=normal:variant=normal:weight=normal:stretch=normal:size=10.0\">Rx(0.5π)</text><circle cx=\"353.9494921875\" cy=\"175.0\" r=\"10.0\" /><rect x=\"333.9494921875\" y=\"205.0\" width=\"40\" height=\"40\" stroke=\"black\" fill=\"white\" stroke-width=\"1\" /><text x=\"353.9494921875\" y=\"225.0\" dominant-baseline=\"middle\" text-anchor=\"middle\" font-size=\"18px\" font-family=\"Arial:style=normal:variant=normal:weight=normal:stretch=normal:size=10.0\">X</text><text x=\"413.9494921875\" y=\"28.0\" dominant-baseline=\"middle\" text-anchor=\"middle\" font-size=\"40px\" font-family=\"Arial:style=normal:variant=normal:weight=normal:stretch=normal:size=10.0\">×</text><text x=\"413.9494921875\" y=\"228.0\" dominant-baseline=\"middle\" text-anchor=\"middle\" font-size=\"40px\" font-family=\"Arial:style=normal:variant=normal:weight=normal:stretch=normal:size=10.0\">×</text></svg>"
      ],
      "text/plain": [
       "<cirq.contrib.svg.svg.SVGCircuit at 0x205c4096d00>"
      ]
     },
     "metadata": {},
     "output_type": "display_data"
    }
   ],
   "source": [
    "from cirq.contrib.svg import SVGCircuit\n",
    "from IPython.display import display, SVG\n",
    "display(SVGCircuit(circuit))\n"
   ]
  },
  {
   "cell_type": "markdown",
   "id": "106d189d-d97b-4e4d-b91f-c71c89c7fd90",
   "metadata": {},
   "source": [
    "<font size=\"6\">Second Subtask</font>"
   ]
  },
  {
   "cell_type": "markdown",
   "id": "8cd71756-1137-4975-b8ef-140406903a32",
   "metadata": {},
   "source": [
    "We will be using cirq library for this task "
   ]
  },
  {
   "cell_type": "markdown",
   "id": "b5ec5a68-a496-47c3-99d4-9d891accbe25",
   "metadata": {},
   "source": [
    "In this task we will be using 5 qubits ie 4 normal qubits and one ancilla qubit "
   ]
  },
  {
   "cell_type": "markdown",
   "id": "91ca567e-cd33-492f-99ba-2234bff2cefe",
   "metadata": {},
   "source": [
    "### Role of ancilla qubit:\n",
    "The ancilla qubit is used as a control mechanism that is used to check similarity between quantum states without measuring them \n",
    "If we measure the qubits it would collapse there superposition "
   ]
  },
  {
   "cell_type": "markdown",
   "id": "453544fb-2857-4992-8307-022acf728133",
   "metadata": {},
   "source": [
    "## Steps of the Swap Test\n",
    "\n",
    "### 1. Initialize the Ancilla in |0⟩\n",
    "- The ancilla qubit starts in **|0⟩**.\n",
    "\n",
    "### 2. Apply Hadamard (H) on the Ancilla\n",
    "- This puts the ancilla in an **equal superposition**:\n",
    "  \n",
    "  $$\n",
    "|+\\rangle = \\frac{|0\\rangle + |1\\rangle}{\\sqrt{2}}\n",
    "  $$\n",
    "\n",
    "\n",
    "### 3. Controlled SWAP (CSWAP) Operations\n",
    "- The ancilla controls the **swap** of qubit pairs (`q1, q2`) and (`q3, q4`).\n",
    "- If the ancilla is **|0⟩**, nothing happens.\n",
    "- If the ancilla is **|1⟩**, the qubits swap.\n",
    "- This **entangles the ancilla** with the similarity of the states.\n",
    "\n",
    "### 4. Apply Hadamard Again to the Ancilla\n",
    "- This transforms the ancilla back to a **new superposition** based on how much the states differ.\n",
    "\n",
    "### 5. Measure the Ancilla\n",
    "- **If the ancilla is |0⟩**, the states are **similar** (higher probability).\n",
    "- **If the ancilla is |1⟩**, the states are **different** (higher probability).\n"
   ]
  },
  {
   "cell_type": "markdown",
   "id": "68e1f0d7-1aee-481a-a794-eca043f281be",
   "metadata": {},
   "source": [
    "Create 5 qubits "
   ]
  },
  {
   "cell_type": "code",
   "execution_count": 9,
   "id": "e28d170e-542f-40d6-b5f4-ba780b8053a1",
   "metadata": {},
   "outputs": [],
   "source": [
    "qubits = [cirq.LineQubit(i) for i in range(5)]\n",
    "q1,q2,q3,q4,ancilla = qubits"
   ]
  },
  {
   "cell_type": "markdown",
   "id": "57a04ddc-3fe8-496b-b914-6241e872a54f",
   "metadata": {},
   "source": [
    "Create a empty circuit"
   ]
  },
  {
   "cell_type": "code",
   "execution_count": 10,
   "id": "a96586ce-5052-4189-890b-86c8999c0912",
   "metadata": {},
   "outputs": [],
   "source": [
    "circuit = cirq.Circuit()"
   ]
  },
  {
   "cell_type": "markdown",
   "id": "25fd575f-4ec8-4401-92ff-8958c8fbd0f8",
   "metadata": {},
   "source": [
    "Apply hadmard gate to q1,q3,q4 and rotate q2 x by pi/3"
   ]
  },
  {
   "cell_type": "code",
   "execution_count": 11,
   "id": "a9ed0bd9-16e1-416f-b8c0-f259b923ad0a",
   "metadata": {},
   "outputs": [],
   "source": [
    "circuit.append(cirq.H(q1))\n",
    "circuit.append(cirq.rx(np.pi/3)(q2))\n",
    "circuit.append([cirq.H(q3), cirq.H(q4)])"
   ]
  },
  {
   "cell_type": "markdown",
   "id": "fef01c8f-b356-4bc7-9af1-af02d656d62d",
   "metadata": {},
   "source": [
    "Add the ancilla qubit to the circuit for swap test "
   ]
  },
  {
   "cell_type": "code",
   "execution_count": 12,
   "id": "de0b064c-e0d1-4090-bc16-ca0fb6be327e",
   "metadata": {},
   "outputs": [],
   "source": [
    "circuit.append(cirq.H(ancilla))"
   ]
  },
  {
   "cell_type": "markdown",
   "id": "f1cb128a-a0e0-4ce1-ba19-8889ee7d1b37",
   "metadata": {},
   "source": [
    "Use controlled swap gate (CSWAP) for q1,q2 and q3,q4"
   ]
  },
  {
   "cell_type": "code",
   "execution_count": 13,
   "id": "9ff27470-74a9-4ea8-ac6f-debac71d748b",
   "metadata": {},
   "outputs": [],
   "source": [
    "circuit.append(cirq.CSWAP(ancilla, q1, q2))\n",
    "circuit.append(cirq.CSWAP(ancilla, q3, q4))"
   ]
  },
  {
   "cell_type": "markdown",
   "id": "3b57da1a-2e69-47c4-bc28-1279b6b2ba75",
   "metadata": {},
   "source": [
    "Finalizing the swap test we have to apply H gate on ancilla"
   ]
  },
  {
   "cell_type": "code",
   "execution_count": 14,
   "id": "338ba3bd-c486-4b0d-a4be-6bb6b8766eed",
   "metadata": {},
   "outputs": [],
   "source": [
    "circuit.append(cirq.H(ancilla))"
   ]
  },
  {
   "cell_type": "markdown",
   "id": "966e1423-6e45-4084-a588-a223c511a657",
   "metadata": {},
   "source": [
    "Print the circuit"
   ]
  },
  {
   "cell_type": "code",
   "execution_count": 15,
   "id": "f67761ab-2ebf-4c28-9548-2827713c2b88",
   "metadata": {},
   "outputs": [
    {
     "name": "stdout",
     "output_type": "stream",
     "text": [
      "Circuit diagram:\n",
      "0: ───H────────────×───────────\n",
      "                   │\n",
      "1: ───Rx(0.333π)───×───────────\n",
      "                   │\n",
      "2: ───H────────────┼───×───────\n",
      "                   │   │\n",
      "3: ───H────────────┼───×───────\n",
      "                   │   │\n",
      "4: ───H────────────@───@───H───\n"
     ]
    }
   ],
   "source": [
    "print(\"Circuit diagram:\")\n",
    "print(circuit)"
   ]
  },
  {
   "cell_type": "markdown",
   "id": "df7050aa-a2dc-49db-aa59-7576251d374c",
   "metadata": {},
   "source": [
    "For better visualization"
   ]
  },
  {
   "cell_type": "code",
   "execution_count": 16,
   "id": "3ceca06b-984d-4283-9be8-443448e73ad1",
   "metadata": {},
   "outputs": [
    {
     "data": {
      "image/svg+xml": [
       "<svg xmlns=\"http://www.w3.org/2000/svg\" width=\"379.5217578125\" height=\"250.0\"><line x1=\"30.0\" x2=\"349.5217578125\" y1=\"25.0\" y2=\"25.0\" stroke=\"#1967d2\" stroke-width=\"1\" /><line x1=\"30.0\" x2=\"349.5217578125\" y1=\"75.0\" y2=\"75.0\" stroke=\"#1967d2\" stroke-width=\"1\" /><line x1=\"30.0\" x2=\"349.5217578125\" y1=\"125.0\" y2=\"125.0\" stroke=\"#1967d2\" stroke-width=\"1\" /><line x1=\"30.0\" x2=\"349.5217578125\" y1=\"175.0\" y2=\"175.0\" stroke=\"#1967d2\" stroke-width=\"1\" /><line x1=\"30.0\" x2=\"349.5217578125\" y1=\"225.0\" y2=\"225.0\" stroke=\"#1967d2\" stroke-width=\"1\" /><line x1=\"189.5217578125\" x2=\"189.5217578125\" y1=\"25.0\" y2=\"225.0\" stroke=\"black\" stroke-width=\"3\" /><line x1=\"249.5217578125\" x2=\"249.5217578125\" y1=\"125.0\" y2=\"225.0\" stroke=\"black\" stroke-width=\"3\" /><rect x=\"10.0\" y=\"5.0\" width=\"40\" height=\"40\" stroke=\"black\" fill=\"white\" stroke-width=\"0\" /><text x=\"30.0\" y=\"25.0\" dominant-baseline=\"middle\" text-anchor=\"middle\" font-size=\"14px\" font-family=\"Arial:style=normal:variant=normal:weight=normal:stretch=normal:size=10.0\">0: </text><rect x=\"10.0\" y=\"55.0\" width=\"40\" height=\"40\" stroke=\"black\" fill=\"white\" stroke-width=\"0\" /><text x=\"30.0\" y=\"75.0\" dominant-baseline=\"middle\" text-anchor=\"middle\" font-size=\"14px\" font-family=\"Arial:style=normal:variant=normal:weight=normal:stretch=normal:size=10.0\">1: </text><rect x=\"10.0\" y=\"105.0\" width=\"40\" height=\"40\" stroke=\"black\" fill=\"white\" stroke-width=\"0\" /><text x=\"30.0\" y=\"125.0\" dominant-baseline=\"middle\" text-anchor=\"middle\" font-size=\"14px\" font-family=\"Arial:style=normal:variant=normal:weight=normal:stretch=normal:size=10.0\">2: </text><rect x=\"10.0\" y=\"155.0\" width=\"40\" height=\"40\" stroke=\"black\" fill=\"white\" stroke-width=\"0\" /><text x=\"30.0\" y=\"175.0\" dominant-baseline=\"middle\" text-anchor=\"middle\" font-size=\"14px\" font-family=\"Arial:style=normal:variant=normal:weight=normal:stretch=normal:size=10.0\">3: </text><rect x=\"10.0\" y=\"205.0\" width=\"40\" height=\"40\" stroke=\"black\" fill=\"white\" stroke-width=\"0\" /><text x=\"30.0\" y=\"225.0\" dominant-baseline=\"middle\" text-anchor=\"middle\" font-size=\"14px\" font-family=\"Arial:style=normal:variant=normal:weight=normal:stretch=normal:size=10.0\">4: </text><rect x=\"70.0\" y=\"5.0\" width=\"79.5217578125\" height=\"40\" stroke=\"black\" fill=\"white\" stroke-width=\"1\" /><text x=\"109.76087890625\" y=\"25.0\" dominant-baseline=\"middle\" text-anchor=\"middle\" font-size=\"18px\" font-family=\"Arial:style=normal:variant=normal:weight=normal:stretch=normal:size=10.0\">H</text><rect x=\"70.0\" y=\"55.0\" width=\"79.5217578125\" height=\"40\" stroke=\"black\" fill=\"white\" stroke-width=\"1\" /><text x=\"109.76087890625\" y=\"75.0\" dominant-baseline=\"middle\" text-anchor=\"middle\" font-size=\"14px\" font-family=\"Arial:style=normal:variant=normal:weight=normal:stretch=normal:size=10.0\">Rx(0.333π)</text><rect x=\"70.0\" y=\"105.0\" width=\"79.5217578125\" height=\"40\" stroke=\"black\" fill=\"white\" stroke-width=\"1\" /><text x=\"109.76087890625\" y=\"125.0\" dominant-baseline=\"middle\" text-anchor=\"middle\" font-size=\"18px\" font-family=\"Arial:style=normal:variant=normal:weight=normal:stretch=normal:size=10.0\">H</text><rect x=\"70.0\" y=\"155.0\" width=\"79.5217578125\" height=\"40\" stroke=\"black\" fill=\"white\" stroke-width=\"1\" /><text x=\"109.76087890625\" y=\"175.0\" dominant-baseline=\"middle\" text-anchor=\"middle\" font-size=\"18px\" font-family=\"Arial:style=normal:variant=normal:weight=normal:stretch=normal:size=10.0\">H</text><rect x=\"70.0\" y=\"205.0\" width=\"79.5217578125\" height=\"40\" stroke=\"black\" fill=\"white\" stroke-width=\"1\" /><text x=\"109.76087890625\" y=\"225.0\" dominant-baseline=\"middle\" text-anchor=\"middle\" font-size=\"18px\" font-family=\"Arial:style=normal:variant=normal:weight=normal:stretch=normal:size=10.0\">H</text><circle cx=\"189.5217578125\" cy=\"225.0\" r=\"10.0\" /><text x=\"189.5217578125\" y=\"28.0\" dominant-baseline=\"middle\" text-anchor=\"middle\" font-size=\"40px\" font-family=\"Arial:style=normal:variant=normal:weight=normal:stretch=normal:size=10.0\">×</text><text x=\"189.5217578125\" y=\"78.0\" dominant-baseline=\"middle\" text-anchor=\"middle\" font-size=\"40px\" font-family=\"Arial:style=normal:variant=normal:weight=normal:stretch=normal:size=10.0\">×</text><circle cx=\"249.5217578125\" cy=\"225.0\" r=\"10.0\" /><text x=\"249.5217578125\" y=\"128.0\" dominant-baseline=\"middle\" text-anchor=\"middle\" font-size=\"40px\" font-family=\"Arial:style=normal:variant=normal:weight=normal:stretch=normal:size=10.0\">×</text><text x=\"249.5217578125\" y=\"178.0\" dominant-baseline=\"middle\" text-anchor=\"middle\" font-size=\"40px\" font-family=\"Arial:style=normal:variant=normal:weight=normal:stretch=normal:size=10.0\">×</text><rect x=\"289.5217578125\" y=\"205.0\" width=\"40\" height=\"40\" stroke=\"black\" fill=\"white\" stroke-width=\"1\" /><text x=\"309.5217578125\" y=\"225.0\" dominant-baseline=\"middle\" text-anchor=\"middle\" font-size=\"18px\" font-family=\"Arial:style=normal:variant=normal:weight=normal:stretch=normal:size=10.0\">H</text></svg>"
      ],
      "text/plain": [
       "<cirq.contrib.svg.svg.SVGCircuit at 0x205c40baf10>"
      ]
     },
     "metadata": {},
     "output_type": "display_data"
    }
   ],
   "source": [
    "display(SVGCircuit(circuit))"
   ]
  },
  {
   "cell_type": "code",
   "execution_count": null,
   "id": "26517959-cadf-48e1-b8af-5211bdaaaa13",
   "metadata": {},
   "outputs": [],
   "source": []
  }
 ],
 "metadata": {
  "kernelspec": {
   "display_name": "Python 3 (ipykernel)",
   "language": "python",
   "name": "python3"
  },
  "language_info": {
   "codemirror_mode": {
    "name": "ipython",
    "version": 3
   },
   "file_extension": ".py",
   "mimetype": "text/x-python",
   "name": "python",
   "nbconvert_exporter": "python",
   "pygments_lexer": "ipython3",
   "version": "3.12.4"
  }
 },
 "nbformat": 4,
 "nbformat_minor": 5
}
