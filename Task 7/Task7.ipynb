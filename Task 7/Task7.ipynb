{
 "cells": [
  {
   "cell_type": "markdown",
   "id": "2e56bc72",
   "metadata": {},
   "source": [
    "# Task7: Equivariant quantum neural networks"
   ]
  },
  {
   "cell_type": "markdown",
   "id": "402f50e2",
   "metadata": {},
   "source": [
    "We will start by first importing the required libraries"
   ]
  },
  {
   "cell_type": "code",
   "execution_count": 1,
   "id": "4e5b87cb",
   "metadata": {},
   "outputs": [],
   "source": [
    "import pennylane as qml\n",
    "from pennylane import numpy as np\n",
    "import matplotlib.pyplot as plt"
   ]
  },
  {
   "cell_type": "markdown",
   "id": "38d23008",
   "metadata": {},
   "source": [
    "First we have to create a dataset of 500 points uniformly sampled in [-1,1]"
   ]
  },
  {
   "cell_type": "code",
   "execution_count": 2,
   "id": "a255472a",
   "metadata": {},
   "outputs": [],
   "source": [
    "np.random.seed(42)\n",
    "N = 500\n",
    "X = np.random.uniform(-1, 1, (N, 2))"
   ]
  },
  {
   "cell_type": "markdown",
   "id": "790e1b16",
   "metadata": {},
   "source": [
    "Now we will label each based on the product of x1*x2\n",
    "\n",
    "Class 1(y=1) if x1*x2>0  <br>\n",
    "Class 0(y=0) if x1*x2<=0 \n",
    "\n",
    "Then split the dataset in in training and testing set\n"
   ]
  },
  {
   "cell_type": "code",
   "execution_count": 3,
   "id": "9d0448f7",
   "metadata": {},
   "outputs": [],
   "source": [
    "y = np.array([1 if x[0]*x[1] > 0 else 0 for x in X])\n",
    "split = int(0.8 * N)\n",
    "X_train, X_test = X[:split], X[split:]\n",
    "y_train, y_test = y[:split], y[split:]"
   ]
  },
  {
   "cell_type": "markdown",
   "id": "832372b5",
   "metadata": {},
   "source": [
    "## Quantum Neural Network\n",
    "\n",
    "We will define 2 quantum circuits \n",
    "\n",
    "### Standard QNN\n",
    "A standard quantum circuit that does not explicitly enforce symmetry.\n",
    "\n",
    "The input x1 x2 are encoded using RX rotation.<br>\n",
    "\n",
    "`StronglyEntanglingLayers` template is used to add learnable parameters.<br>\n",
    "\n",
    "Expectation value of the Pauli-Z operator on qubit 0 is used as the output.\n"
   ]
  },
  {
   "cell_type": "code",
   "execution_count": 9,
   "id": "48261668",
   "metadata": {},
   "outputs": [],
   "source": [
    "num_layers = 3\n",
    "dev_std = qml.device(\"default.qubit\", wires=2)\n",
    "\n",
    "def circuit_std(x, weights):\n",
    "    # Feature encoding\n",
    "    qml.RX(x[0], wires=0)\n",
    "    qml.RX(x[1], wires=1)\n",
    "    # Use a deeper, more expressive circuit:\n",
    "    qml.templates.StronglyEntanglingLayers(weights, wires=[0, 1])\n",
    "    return qml.expval(qml.PauliZ(0))\n",
    "\n",
    "weights_std = np.random.randn(num_layers, 2, 3, requires_grad=True)\n",
    "qnode_std = qml.QNode(circuit_std, dev_std, interface=\"autograd\")"
   ]
  },
  {
   "cell_type": "markdown",
   "id": "72f525e3",
   "metadata": {},
   "source": [
    "## Equivariant QNN\n",
    "\n",
    "A quantum circuit that enforces symmetric split\n",
    "\n",
    "Feature Encoding same as standard QNN\n",
    "\n",
    "Apply same rotation to both layers\n",
    "\n",
    "The IsingXX gate is used as a symmetric entangler."
   ]
  },
  {
   "cell_type": "code",
   "execution_count": 7,
   "id": "6d3759b9",
   "metadata": {},
   "outputs": [],
   "source": [
    "dev_eq = qml.device(\"default.qubit\", wires=2)\n",
    "\n",
    "def circuit_eq(x, weights):\n",
    "    qml.RX(x[0], wires=0)\n",
    "    qml.RX(x[1], wires=1)\n",
    "    \n",
    "    for i in range(num_layers):\n",
    "        \n",
    "        qml.RY(weights[i, 0], wires=0)\n",
    "        qml.RY(weights[i, 0], wires=1)\n",
    "        \n",
    "        qml.IsingXX(weights[i, 1], wires=[0, 1])\n",
    "\n",
    "        qml.RY(weights[i, 2], wires=0)\n",
    "        qml.RY(weights[i, 2], wires=1)\n",
    "    return qml.expval(qml.PauliZ(0))\n",
    "\n",
    "# shape should be (num_layers, 3)\n",
    "weights_eq = np.random.randn(num_layers, 3, requires_grad=True)\n",
    "qnode_eq = qml.QNode(circuit_eq, dev_eq, interface=\"autograd\")"
   ]
  },
  {
   "cell_type": "markdown",
   "id": "dfaf49a8",
   "metadata": {},
   "source": [
    "## Prediction and Cost Function\n",
    "\n",
    "The Binary Cross-Entropy (BCE) loss is defined as:\n",
    "\n",
    "$$\n",
    "\\mathcal{L} = -\\frac{1}{N} \\sum_{i=1}^{N} \\left[ y_i \\log(\\hat{y}_i) + (1 - y_i) \\log(1 - \\hat{y}_i) \\right]\n",
    "$$\n",
    "\n",
    "where:\n",
    "- N is the number of samples,\n",
    "- ( y_i in {0,1}) is the true label of the i -th sample,\n",
    "- ( \\hat{y}_i ) is the predicted probability of the positive class.\n",
    "\n"
   ]
  },
  {
   "cell_type": "code",
   "execution_count": 8,
   "id": "4f49c1f2",
   "metadata": {},
   "outputs": [],
   "source": [
    "def predict_std(x, weights):\n",
    "    # Map expectation value [-1,1] to probability [0,1]\n",
    "    return (qnode_std(x, weights) + 1) / 2\n",
    "\n",
    "def predict_eq(x, weights):\n",
    "    return (qnode_eq(x, weights) + 1) / 2\n",
    "\n",
    "def cost_std(weights, X, y):\n",
    "    loss = 0\n",
    "    for i in range(len(X)):\n",
    "        p = predict_std(X[i], weights)\n",
    "        loss += - (y[i] * np.log(p + 1e-6) + (1 - y[i]) * np.log(1 - p + 1e-6))\n",
    "    return loss / len(X)\n",
    "\n",
    "def cost_eq(weights, X, y):\n",
    "    loss = 0\n",
    "    for i in range(len(X)):\n",
    "        p = predict_eq(X[i], weights)\n",
    "        loss += - (y[i] * np.log(p + 1e-6) + (1 - y[i]) * np.log(1 - p + 1e-6))\n",
    "    return loss / len(X)"
   ]
  },
  {
   "cell_type": "markdown",
   "id": "dabb7fde",
   "metadata": {},
   "source": [
    "## Training the Models\n",
    "\n",
    "Both models are trained using the Adam optimizer with a learning rate of 0.05 for 60 epochs.\n"
   ]
  },
  {
   "cell_type": "code",
   "execution_count": 10,
   "id": "2a35a6f0",
   "metadata": {},
   "outputs": [
    {
     "name": "stdout",
     "output_type": "stream",
     "text": [
      "Epoch   0 | Standard Loss: 0.7104 | Equivariant Loss: 0.7397\n",
      "Epoch  30 | Standard Loss: 0.5075 | Equivariant Loss: 0.6858\n"
     ]
    }
   ],
   "source": [
    "opt_std = qml.AdamOptimizer(stepsize=0.05)\n",
    "opt_eq = qml.AdamOptimizer(stepsize=0.05)\n",
    "epochs = 60\n",
    "\n",
    "losses_std = []\n",
    "losses_eq = []\n",
    "\n",
    "\n",
    "for it in range(epochs):\n",
    "    weights_std = opt_std.step(lambda w: cost_std(w, X_train, y_train), weights_std)\n",
    "    weights_eq = opt_eq.step(lambda w: cost_eq(w, X_train, y_train), weights_eq)\n",
    "    losses_std.append(cost_std(weights_std, X_train, y_train))\n",
    "    losses_eq.append(cost_eq(weights_eq, X_train, y_train))\n",
    "    if it % 30 == 0:\n",
    "        print(f\"Epoch {it:3d} | Standard Loss: {losses_std[-1]:.4f} | Equivariant Loss: {losses_eq[-1]:.4f}\")"
   ]
  },
  {
   "cell_type": "markdown",
   "id": "f76b0599",
   "metadata": {},
   "source": [
    "Performance Check and plot \n",
    "\n",
    "We will now compute the accuracy on the test data and then plot the loss curves"
   ]
  },
  {
   "cell_type": "code",
   "execution_count": 11,
   "id": "cacc383c",
   "metadata": {},
   "outputs": [
    {
     "name": "stdout",
     "output_type": "stream",
     "text": [
      "\n",
      "Test Accuracy (Improved Models):\n",
      "Standard QNN:      0.85\n",
      "Equivariant QNN:   0.44\n"
     ]
    },
    {
     "data": {
      "image/png": "[encoded data removed]",
      "text/plain": [
       "<Figure size 640x480 with 1 Axes>"
      ]
     },
     "metadata": {},
     "output_type": "display_data"
    }
   ],
   "source": [
    "def accuracy_std(weights, X, y):\n",
    "    preds = [1 if predict_std(x, weights) >= 0.5 else 0 for x in X]\n",
    "    return np.mean(np.array(preds) == y)\n",
    "\n",
    "def accuracy_eq(weights, X, y):\n",
    "    preds = [1 if predict_eq(x, weights) >= 0.5 else 0 for x in X]\n",
    "    return np.mean(np.array(preds) == y)\n",
    "\n",
    "acc_std = accuracy_std(weights_std, X_test, y_test)\n",
    "acc_eq = accuracy_eq(weights_eq, X_test, y_test)\n",
    "\n",
    "print(\"\\nTest Accuracy (Improved Models):\")\n",
    "print(\"Standard QNN:     \", acc_std)\n",
    "print(\"Equivariant QNN:  \", acc_eq)\n",
    "\n",
    "# Plot training loss curves\n",
    "plt.plot(losses_std, label=\"Standard QNN\")\n",
    "plt.plot(losses_eq, label=\"Equivariant QNN\")\n",
    "plt.xlabel(\"Epoch\")\n",
    "plt.ylabel(\"Loss\")\n",
    "plt.legend()\n",
    "plt.title(\"Training Loss Comparison (Improved)\")\n",
    "plt.show()"
   ]
  },
  {
   "cell_type": "markdown",
   "id": "9ff744c0",
   "metadata": {},
   "source": [
    "### Output \n",
    "\n",
    "This output signifies that the Standard QNN significantly outperforms the Equivariant QNN in terms of test accuracy on this particular dataset.\n",
    "\n",
    "Standard QNN (Blue Line):<br>\n",
    "The loss decreases rapidly in the first few epochs and continues to decline steadily, stabilizing at a low value.\n",
    "This suggests that it is learning the classification task well.\n",
    "\n",
    "\n",
    "Equivariant QNN (Orange Line):<br>\n",
    "The loss remains high and fluctuates without significant improvement.\n",
    "This indicates that the equivariant QNN is struggling to learn the decision boundary effectively.\n"
   ]
  },
  {
   "cell_type": "markdown",
   "id": "b777bba8",
   "metadata": {},
   "source": []
  }
 ],
 "metadata": {
  "kernelspec": {
   "display_name": "Python 3 (ipykernel)",
   "language": "python",
   "name": "python3"
  },
  "language_info": {
   "codemirror_mode": {
    "name": "ipython",
    "version": 3
   },
   "file_extension": ".py",
   "mimetype": "text/x-python",
   "name": "python",
   "nbconvert_exporter": "python",
   "pygments_lexer": "ipython3",
   "version": "3.12.4"
  }
 },
 "nbformat": 4,
 "nbformat_minor": 5
}
